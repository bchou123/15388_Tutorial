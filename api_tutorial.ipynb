{
 "cells": [
  {
   "cell_type": "markdown",
   "metadata": {},
   "source": [
    "## Introduction\n",
    "This tutorial will focus on how to use REST APIs to collect or send data. In particular, the tutorial will introduce how to use the Python ```Requests``` library to interact with APIs and how we can apply that knowledge to transfer data from Canvas LMS to Trello (a task management application). The second example will be show how we can use the data for simple data science tasks. There are many cases where we would want to access pieces of data from one data source and use it in another application. This can range from scraping data from online websites for data analysis to automating workflows between applications. \n"
   ]
  },
  {
   "cell_type": "markdown",
   "metadata": {},
   "source": [
    "## Tutorial Contents\n",
    "We will be using several python libraries to query data from the Canvas LMS API and Trello API. To make API calls to the 2 APIs, we will use the Python ```Requests``` library. In transfering data from Canvas to Trello, we will make use of the ```random``` and ```html2text``` libraries to transform the data. The [Canvas LMS API](https://canvas.instructure.com/doc/api/index.html) allows users to interface with various information from the Canvas servers such as student courses, assignments, grades, etc. The [Trello API](https://developer.atlassian.com/cloud/trello/rest/api-group-actions/) allows users to get information from existing boards and to create new items in Trello. Lastly, we will use ```pandas``` to create a visualization of our assignment workload by month."
   ]
  },
  {
   "cell_type": "markdown",
   "metadata": {},
   "source": [
    "## Installing the libraries\n",
    "To install the required libraries with pip, simply run the following commands in the terminal.\n",
    "\n",
    "```\n",
    "$ python -m pip install requests\n",
    "\n",
    "$ python -m pip install random\n",
    "\n",
    "$ python -m pip install html2text\n",
    "\n",
    "$ python -m pip install pandas\n",
    "```\n",
    "After installing, run the following cell to import the libraries into the notebook."
   ]
  },
  {
   "cell_type": "code",
   "execution_count": 33,
   "metadata": {},
   "outputs": [],
   "source": [
    "import requests \n",
    "import random\n",
    "import html2text\n",
    "import pandas as pd"
   ]
  },
  {
   "cell_type": "markdown",
   "metadata": {},
   "source": [
    "## Introduction to REST APIs\n",
    "\n",
    "There are many ways to get data for data science. One of the key ways is through querying specific application endpoints. An **application programming interface** (API) is a software layer that allows 2 applications to communicate with each other through a set of defined protocols. For example, a website communicates to a backend server through an API to get the information it should display on the webpage. \n",
    "\n",
    "A REST (REpresentational State Transfer) API is a web API that follows the REST architectural style. Web APIs often use the client-server architecture for separation of concerns. The key aspect of REST is that requests are stateless. The server will not store any session data and each request must contain all the necessary information to use the endpoint. Endpoints are usually specified as urls with data being organized into different sub paths. Clients will send a request to the proper url to fetch/edit/delete a resource and the server will send back a response.\n",
    "\n"
   ]
  },
  {
   "cell_type": "markdown",
   "metadata": {},
   "source": [
    "**Structure of a Request** \n",
    "\n",
    "![The structure of a REST API request.](request_structure.png \"Title\")"
   ]
  },
  {
   "cell_type": "markdown",
   "metadata": {},
   "source": [
    "Clients use the protocols defined by the REST API to get data from servers. REST uses standard HTTP methods to  query the data. Below are the most common ones and their function.\n",
    "* GET - used to read a representation of a resource and is idempotent.\n",
    "* PUT - used to update a resource\n",
    "* POST - used to create a new resource\n",
    "* DELETE - used to delete a resource \n",
    "\n",
    "Proper design of RESTful APIs will use the HTTP methods for its intended purposes. However, in the real world, there are instances where APIs will abuse method types. For example, a request is sent with the GET method but the actual endpoint will do something other than read the data. Always carefully read the documentation of any API to understand its true behavior. \n",
    "\n",
    "Headers include meta-data about the request and information about the client and server. The most common use case of headers is for authorization purposes (sending credential).\n",
    "\n",
    "The content body is where data from the client can stored in the request. For example, it can be some JSON data that we can use to update a resource on the server. "
   ]
  },
  {
   "cell_type": "markdown",
   "metadata": {},
   "source": [
    "**Structure of a Response** \n",
    "\n",
    "![The structure of a REST API response.](response_structure.png \"Response Structure\")"
   ]
  },
  {
   "cell_type": "markdown",
   "metadata": {},
   "source": [
    "The HTTP status code indicates the status of the request. The statuses can indicate success (200-299), redirection (300-399), client error (400-499), and server error (500-599). Some examples are 200 ok, 404 not found, 500 internal server error.\n",
    "\n",
    "Response headers serve the same purpose as request headers. They contain meta-data about the response.\n",
    "\n",
    "The response body contains a representation of the requested resource. This can be in a variety of formats but the most common ones are ```XML``` and ```JSON```. In this tutorial, we will only be working with JSON responses. "
   ]
  },
  {
   "cell_type": "markdown",
   "metadata": {},
   "source": [
    "## Getting Started with Requests \n",
    "There are many tools out there to iteract with REST APIs. Some of the popular ones are CURL, PostMan, and Requests. We will be using Requests, which is a Python library that allows us to make various requests to REST APIs. Getting started with Requests is simple. The common HTTP methods can be called as below."
   ]
  },
  {
   "cell_type": "code",
   "execution_count": null,
   "metadata": {},
   "outputs": [],
   "source": [
    "# simple and intuitive design for api calls\n",
    "r = requests.get('url')\n",
    "r = requests.post('url')\n",
    "r = requests.put('url')\n",
    "r = requests.delete('url')"
   ]
  },
  {
   "cell_type": "markdown",
   "metadata": {},
   "source": [
    "But how about the other parts of the request structure? Headers and query parameters are easily included in the request in the form of a dictionary."
   ]
  },
  {
   "cell_type": "code",
   "execution_count": null,
   "metadata": {},
   "outputs": [],
   "source": [
    "headers = {'Authorization': 'Bearer <Token>'}\n",
    "payload = {\n",
    "  'param1': '<value1>',\n",
    "  'param2': '<value2>'\n",
    "}\n",
    "\n",
    "# make a GET request with the appropriate headers and query parameters\n",
    "r = requests.get('url', headers=headers, params=payload)"
   ]
  },
  {
   "cell_type": "markdown",
   "metadata": {},
   "source": [
    "For requests that will alter some resources on the server (such as POST and PUT), we can include the content body in the ```data``` parameter. Note that ```params``` and ```data``` are not mutually exclusive. Some APIs will have requests send the data along in the query parameters. This will be the case with the POST requests we will send to Trello later on in the tutorial."
   ]
  },
  {
   "cell_type": "code",
   "execution_count": null,
   "metadata": {},
   "outputs": [],
   "source": [
    "import json\n",
    "\n",
    "data = {\n",
    "  'field1': '<value1>',\n",
    "  'field2': '<value2>'\n",
    "}\n",
    "\n",
    "# make a POST request with the data\n",
    "r = requests.post('url', data=json.dumps(data))\n",
    "\n",
    "# or requests can directly encode the dictionary to json\n",
    "r = requests.post('url', json=data)"
   ]
  },
  {
   "cell_type": "markdown",
   "metadata": {},
   "source": [
    "Accessing the different parts of the API response is also fairly easy. It is best practices to check the HTTP response code when receiving a request. This can easily be done by checking the ```r.status_code``` or calling the built-in method ```raise_for_status()``` which will raise an error when we make a bad request with a 4XX or 5XX response code."
   ]
  },
  {
   "cell_type": "code",
   "execution_count": null,
   "metadata": {},
   "outputs": [],
   "source": [
    "r.status_code\n",
    "\n",
    "# or\n",
    "r.raise_for_status()"
   ]
  },
  {
   "cell_type": "markdown",
   "metadata": {},
   "source": [
    "Similarly, response headers are accessed as below."
   ]
  },
  {
   "cell_type": "code",
   "execution_count": null,
   "metadata": {},
   "outputs": [],
   "source": [
    "# dictionary of all headers\n",
    "r.headers\n",
    "\n",
    "# case insensitive indexing\n",
    "r.headers['Content-Type']"
   ]
  },
  {
   "cell_type": "markdown",
   "metadata": {},
   "source": [
    "The response body can be in many formats. We can access the response as a text string or we can use the built-in JSON decoder for JSON data (converts to python dictionary)."
   ]
  },
  {
   "cell_type": "code",
   "execution_count": null,
   "metadata": {},
   "outputs": [],
   "source": [
    "# text string format\n",
    "data = r.text\n",
    "\n",
    "# decodes JSON data\n",
    "data = r.json()"
   ]
  },
  {
   "cell_type": "markdown",
   "metadata": {},
   "source": [
    "## Canvas LMS to Trello"
   ]
  },
  {
   "cell_type": "markdown",
   "metadata": {},
   "source": [
    "In this section of the tutorial, we will be automating the translation of assignments from Canvas to a task management application like Trello. In particular, we will be gathering course and assignment details then use it to populate a task board in Trello. The first step is to get the appropriate API keys or tokens to use the Canvas LMS and Trello REST APIs. The simplest way to get a Canvas LMS access token is to manually generate one from our profile page on the Canvas website. The following instructions are from the Canvas LMS REST API Documentation.\n",
    "\n",
    "1. Click the \"profile\" link in the top right menu bar, or navigate to /profile\n",
    "2. Under the \"Approved Integrations\" section, click the button to generate a new access token.\n",
    "3. Once the token is generated, you cannot view it again, and you'll have to generate a new token if you forget it. Remember that access tokens are password equivalent, so keep it secret."
   ]
  },
  {
   "cell_type": "code",
   "execution_count": 34,
   "metadata": {},
   "outputs": [],
   "source": [
    "CANVAS_TOKEN = '<replace with your token here>'\n",
    "CANVAS_BASE_URL = 'https://canvas.instructure.com'"
   ]
  },
  {
   "cell_type": "markdown",
   "metadata": {},
   "source": [
    "If you don't have a Trello account, you can sign up for one [here](https://trello.com/en-US). Trello requires developers to generate a API key to use the REST API. We will also need to generate a user token to get access to our Trello account. To generate an API key, go to [this link](https://trello.com/app-key) and the key will be displayed at the top of the page. To generate a token for local testing, click the token link near the top of the page. Double check that the account for the token is right one."
   ]
  },
  {
   "cell_type": "code",
   "execution_count": 35,
   "metadata": {},
   "outputs": [],
   "source": [
    "TRELLO_API_KEY = \"<replace with your API key here>\"\n",
    "TRELLO_TOKEN = '<replace with your token here>'"
   ]
  },
  {
   "cell_type": "markdown",
   "metadata": {},
   "source": [
    "## Getting Data From Canvas\n",
    "The first step is to get all our active courses from Canvas. We can first get all the active courses by sending a GET request to Canvas LMS with this [endpoint](https://canvas.instructure.com/doc/api/courses.html#method.courses.index). We also need to authorize our request by sending our token in our request. We can send our token in the authorization header and send query paramters in a dictonary format through the payload. In the example below, we are asking for only active enrollment state courses. "
   ]
  },
  {
   "cell_type": "code",
   "execution_count": 36,
   "metadata": {},
   "outputs": [
    {
     "data": {
      "text/plain": [
       "[{'id': 77520000000009622,\n",
       "  'name': 'Computer Science Assessment Test 2019',\n",
       "  'account_id': 77520000000000001,\n",
       "  'uuid': 'nCz472XDlrPcZNoL5YxAtZTAbNVQyruPjgO5SnRN',\n",
       "  'start_at': '2019-03-07T23:23:58Z',\n",
       "  'grading_standard_id': None,\n",
       "  'is_public': False,\n",
       "  'created_at': '2019-02-11T18:41:51Z',\n",
       "  'course_code': 'Computer Science Assessment Test 2019',\n",
       "  'default_view': 'modules',\n",
       "  'root_account_id': 77520000000000001,\n",
       "  'enrollment_term_id': 77520000000000001,\n",
       "  'license': 'private',\n",
       "  'grade_passback_setting': None,\n",
       "  'end_at': None,\n",
       "  'public_syllabus': False,\n",
       "  'public_syllabus_to_auth': False,\n",
       "  'storage_quota_mb': 25000,\n",
       "  'is_public_to_auth_users': False,\n",
       "  'homeroom_course': False,\n",
       "  'course_color': None,\n",
       "  'friendly_name': None,\n",
       "  'apply_assignment_group_weights': False,\n",
       "  'calendar': {'ics': 'https://canvas.instructure.com/feeds/calendars/course_nCz472XDlrPcZNoL5YxAtZTAbNVQyruPjgO5SnRN.ics'},\n",
       "  'time_zone': 'America/New_York',\n",
       "  'blueprint': False,\n",
       "  'template': False,\n",
       "  'enrollments': [{'type': 'student',\n",
       "    'role': 'StudentEnrollment',\n",
       "    'role_id': 77520000000000003,\n",
       "    'user_id': 77520000000054038,\n",
       "    'enrollment_state': 'active',\n",
       "    'limit_privileges_to_course_section': False}],\n",
       "  'hide_final_grades': False,\n",
       "  'workflow_state': 'available',\n",
       "  'restrict_enrollments_to_course_dates': False},\n",
       " {'id': 77520000000026494,\n",
       "  'name': 'Design Educational Games',\n",
       "  'account_id': 77520000000000019,\n",
       "  'uuid': 'OiM1Vj0gyTEMwAxpffJIJbWG4RawuMyjDhO41iBL',\n",
       "  'start_at': '2022-01-12T19:00:11Z',\n",
       "  'grading_standard_id': None,\n",
       "  'is_public': True,\n",
       "  'created_at': '2021-11-17T16:33:48Z',\n",
       "  'course_code': '05418',\n",
       "  'default_view': 'syllabus',\n",
       "  'root_account_id': 77520000000000001,\n",
       "  'enrollment_term_id': 77520000000000311,\n",
       "  'license': 'private',\n",
       "  'grade_passback_setting': None,\n",
       "  'end_at': None,\n",
       "  'public_syllabus': True,\n",
       "  'public_syllabus_to_auth': True,\n",
       "  'storage_quota_mb': 25000,\n",
       "  'is_public_to_auth_users': True,\n",
       "  'homeroom_course': False,\n",
       "  'course_color': None,\n",
       "  'friendly_name': None,\n",
       "  'apply_assignment_group_weights': True,\n",
       "  'calendar': {'ics': 'https://canvas.instructure.com/feeds/calendars/course_OiM1Vj0gyTEMwAxpffJIJbWG4RawuMyjDhO41iBL.ics'},\n",
       "  'time_zone': 'America/New_York',\n",
       "  'blueprint': False,\n",
       "  'template': False,\n",
       "  'enrollments': [{'type': 'student',\n",
       "    'role': 'StudentEnrollment',\n",
       "    'role_id': 77520000000000003,\n",
       "    'user_id': 77520000000054038,\n",
       "    'enrollment_state': 'active',\n",
       "    'limit_privileges_to_course_section': False}],\n",
       "  'hide_final_grades': False,\n",
       "  'workflow_state': 'available',\n",
       "  'restrict_enrollments_to_course_dates': False,\n",
       "  'overridden_course_visibility': ''},\n",
       " {'id': 77520000000009654,\n",
       "  'name': 'Dietrich College Class of 2023 Advising Guide',\n",
       "  'account_id': 77520000000000028,\n",
       "  'uuid': 'qePCsz5UGNoRCESt0poOO85JlxTCQdRqJFhmtJK9',\n",
       "  'start_at': '2019-06-06T04:00:00Z',\n",
       "  'grading_standard_id': None,\n",
       "  'is_public': False,\n",
       "  'created_at': '2019-02-26T16:33:09Z',\n",
       "  'course_code': 'Dietrich_23',\n",
       "  'default_view': 'wiki',\n",
       "  'root_account_id': 77520000000000001,\n",
       "  'enrollment_term_id': 77520000000000001,\n",
       "  'license': 'private',\n",
       "  'grade_passback_setting': None,\n",
       "  'end_at': '2023-05-21T04:00:00Z',\n",
       "  'public_syllabus': False,\n",
       "  'public_syllabus_to_auth': False,\n",
       "  'storage_quota_mb': 25000,\n",
       "  'is_public_to_auth_users': False,\n",
       "  'homeroom_course': False,\n",
       "  'course_color': None,\n",
       "  'friendly_name': None,\n",
       "  'apply_assignment_group_weights': False,\n",
       "  'calendar': {'ics': 'https://canvas.instructure.com/feeds/calendars/course_qePCsz5UGNoRCESt0poOO85JlxTCQdRqJFhmtJK9.ics'},\n",
       "  'time_zone': 'America/New_York',\n",
       "  'blueprint': False,\n",
       "  'template': False,\n",
       "  'enrollments': [{'type': 'student',\n",
       "    'role': 'StudentEnrollment',\n",
       "    'role_id': 77520000000000003,\n",
       "    'user_id': 77520000000054038,\n",
       "    'enrollment_state': 'active',\n",
       "    'limit_privileges_to_course_section': False}],\n",
       "  'hide_final_grades': False,\n",
       "  'workflow_state': 'available',\n",
       "  'restrict_enrollments_to_course_dates': True,\n",
       "  'overridden_course_visibility': ''},\n",
       " {'id': 77520000000027235,\n",
       "  'name': 'Practical Data Science',\n",
       "  'account_id': 77520000000000033,\n",
       "  'uuid': '1HxlMOVraOSeaqTiZ2GjMYcTDcbr92w5LkKdr70m',\n",
       "  'start_at': '2022-01-07T14:18:51Z',\n",
       "  'grading_standard_id': None,\n",
       "  'is_public': False,\n",
       "  'created_at': '2022-01-05T14:15:55Z',\n",
       "  'course_code': '15388/15688',\n",
       "  'default_view': 'wiki',\n",
       "  'root_account_id': 77520000000000001,\n",
       "  'enrollment_term_id': 77520000000000311,\n",
       "  'license': 'private',\n",
       "  'grade_passback_setting': None,\n",
       "  'end_at': None,\n",
       "  'public_syllabus': False,\n",
       "  'public_syllabus_to_auth': False,\n",
       "  'storage_quota_mb': 25000,\n",
       "  'is_public_to_auth_users': False,\n",
       "  'homeroom_course': False,\n",
       "  'course_color': None,\n",
       "  'friendly_name': None,\n",
       "  'apply_assignment_group_weights': False,\n",
       "  'calendar': {'ics': 'https://canvas.instructure.com/feeds/calendars/course_1HxlMOVraOSeaqTiZ2GjMYcTDcbr92w5LkKdr70m.ics'},\n",
       "  'time_zone': 'America/New_York',\n",
       "  'blueprint': False,\n",
       "  'template': False,\n",
       "  'enrollments': [{'type': 'student',\n",
       "    'role': 'StudentEnrollment',\n",
       "    'role_id': 77520000000000003,\n",
       "    'user_id': 77520000000054038,\n",
       "    'enrollment_state': 'active',\n",
       "    'limit_privileges_to_course_section': False}],\n",
       "  'hide_final_grades': False,\n",
       "  'workflow_state': 'available',\n",
       "  'restrict_enrollments_to_course_dates': False,\n",
       "  'overridden_course_visibility': ''},\n",
       " {'id': 77520000000027706,\n",
       "  'name': 'S22-Information Systems Consulting Project',\n",
       "  'account_id': 77520000000000019,\n",
       "  'uuid': 'pIoEVY3kwOJ7SjrSR0NTRJAHBMbvpbeUFMbZBmqL',\n",
       "  'start_at': '2022-01-17T16:37:14Z',\n",
       "  'grading_standard_id': None,\n",
       "  'is_public': False,\n",
       "  'created_at': '2022-01-10T15:11:47Z',\n",
       "  'course_code': '67373',\n",
       "  'default_view': 'modules',\n",
       "  'root_account_id': 77520000000000001,\n",
       "  'enrollment_term_id': 77520000000000311,\n",
       "  'license': 'private',\n",
       "  'grade_passback_setting': None,\n",
       "  'end_at': None,\n",
       "  'public_syllabus': False,\n",
       "  'public_syllabus_to_auth': False,\n",
       "  'storage_quota_mb': 25000,\n",
       "  'is_public_to_auth_users': False,\n",
       "  'homeroom_course': False,\n",
       "  'course_color': None,\n",
       "  'friendly_name': None,\n",
       "  'apply_assignment_group_weights': True,\n",
       "  'calendar': {'ics': 'https://canvas.instructure.com/feeds/calendars/course_pIoEVY3kwOJ7SjrSR0NTRJAHBMbvpbeUFMbZBmqL.ics'},\n",
       "  'time_zone': 'America/New_York',\n",
       "  'blueprint': False,\n",
       "  'template': False,\n",
       "  'enrollments': [{'type': 'student',\n",
       "    'role': 'StudentEnrollment',\n",
       "    'role_id': 77520000000000003,\n",
       "    'user_id': 77520000000054038,\n",
       "    'enrollment_state': 'active',\n",
       "    'limit_privileges_to_course_section': False},\n",
       "   {'type': 'student',\n",
       "    'role': 'StudentEnrollment',\n",
       "    'role_id': 77520000000000003,\n",
       "    'user_id': 77520000000054038,\n",
       "    'enrollment_state': 'active',\n",
       "    'limit_privileges_to_course_section': False}],\n",
       "  'hide_final_grades': False,\n",
       "  'workflow_state': 'available',\n",
       "  'restrict_enrollments_to_course_dates': False,\n",
       "  'overridden_course_visibility': ''},\n",
       " {'id': 77520000000028302,\n",
       "  'name': 'Special Topics in HCI: Accessibility',\n",
       "  'account_id': 77520000000000019,\n",
       "  'uuid': 'O4i1xjxDcCaylhubpfHib6pwge6tyrUI5HQlxBaH',\n",
       "  'start_at': '2022-01-19T03:14:18Z',\n",
       "  'grading_standard_id': None,\n",
       "  'is_public': False,\n",
       "  'created_at': '2022-01-17T14:16:00Z',\n",
       "  'course_code': '05499/899',\n",
       "  'default_view': 'syllabus',\n",
       "  'root_account_id': 77520000000000001,\n",
       "  'enrollment_term_id': 77520000000000311,\n",
       "  'license': 'private',\n",
       "  'grade_passback_setting': None,\n",
       "  'end_at': None,\n",
       "  'public_syllabus': False,\n",
       "  'public_syllabus_to_auth': False,\n",
       "  'storage_quota_mb': 25000,\n",
       "  'is_public_to_auth_users': False,\n",
       "  'homeroom_course': False,\n",
       "  'course_color': None,\n",
       "  'friendly_name': None,\n",
       "  'apply_assignment_group_weights': True,\n",
       "  'calendar': {'ics': 'https://canvas.instructure.com/feeds/calendars/course_O4i1xjxDcCaylhubpfHib6pwge6tyrUI5HQlxBaH.ics'},\n",
       "  'time_zone': 'America/New_York',\n",
       "  'blueprint': False,\n",
       "  'template': False,\n",
       "  'enrollments': [{'type': 'student',\n",
       "    'role': 'StudentEnrollment',\n",
       "    'role_id': 77520000000000003,\n",
       "    'user_id': 77520000000054038,\n",
       "    'enrollment_state': 'active',\n",
       "    'limit_privileges_to_course_section': False}],\n",
       "  'hide_final_grades': False,\n",
       "  'workflow_state': 'available',\n",
       "  'restrict_enrollments_to_course_dates': False,\n",
       "  'overridden_course_visibility': ''}]"
      ]
     },
     "execution_count": 36,
     "metadata": {},
     "output_type": "execute_result"
    }
   ],
   "source": [
    "# We will include our API token in the Authorization Header for our API requests\n",
    "auth = 'Bearer ' + CANVAS_TOKEN\n",
    "headers = {'Authorization': auth}\n",
    "payload = {\"enrollment_state\": \"active\"}\n",
    "\n",
    "r = requests.get(CANVAS_BASE_URL + '/api/v1/courses', params=payload, headers=headers)\n",
    "r.raise_for_status()\n",
    "courses = r.json()\n",
    "\n",
    "courses"
   ]
  },
  {
   "cell_type": "markdown",
   "metadata": {},
   "source": [
    "We can see that the JSON response is structured as a list of courses, each with a defined set of attributes. In particular, we are interested in the course name and course id. We can use the course id to request assignments from each course. We can also create a dictionary mapping course id to the course name which we will use later with the Trello API to apply the appropriate labels to the assignment cards. "
   ]
  },
  {
   "cell_type": "code",
   "execution_count": 37,
   "metadata": {},
   "outputs": [
    {
     "data": {
      "text/plain": [
       "{77520000000009622: 'Computer Science Assessment Test 2019',\n",
       " 77520000000026494: 'Design Educational Games',\n",
       " 77520000000009654: 'Dietrich College Class of 2023 Advising Guide',\n",
       " 77520000000027235: 'Practical Data Science',\n",
       " 77520000000027706: 'S22-Information Systems Consulting Project',\n",
       " 77520000000028302: 'Special Topics in HCI: Accessibility'}"
      ]
     },
     "execution_count": 37,
     "metadata": {},
     "output_type": "execute_result"
    }
   ],
   "source": [
    "id_to_course = {}\n",
    "for course in courses:\n",
    "  id_to_course[course['id']] = course['name']\n",
    "\n",
    "id_to_course"
   ]
  },
  {
   "cell_type": "markdown",
   "metadata": {},
   "source": [
    "To get the upcoming assignments for a course, we will send a GET request to this [endpoint](https://canvas.instructure.com/doc/api/assignments.html#method.assignments_api.index). \n",
    "1. The endpoint url includes the id of the course and is not send through the query parameters (payload). We have to do some string concatenation to include it.\n",
    "2. To only get upcoming assignments, we have to set ```bucket``` to 'upcoming'.\n",
    "3. Canvas paginates its responses by default. We can change the number of items returned per request through the ```per_page``` field. An upper bound of 20 will suffice for our tutorial."
   ]
  },
  {
   "cell_type": "code",
   "execution_count": 38,
   "metadata": {},
   "outputs": [
    {
     "name": "stdout",
     "output_type": "stream",
     "text": [
      "Apr 6 Sprint Report 2022-04-06T04:01:00Z\n",
      "Homework 5: DIY-AT - ADD A HANDLE 2022-04-07T03:59:59Z\n"
     ]
    }
   ],
   "source": [
    "assignments = []\n",
    "\n",
    "for c in courses:\n",
    "  payload={\n",
    "    'bucket': 'upcoming',\n",
    "    'per_page': 20\n",
    "  }\n",
    "  r = requests.get(CANVAS_BASE_URL+ \"/api/v1/courses/\" + str(c['id']) + \"/assignments\", params=payload, headers=headers)\n",
    "  r.raise_for_status()\n",
    "  assignments.extend(r.json())\n",
    "\n",
    "# lets see the upcoming assignments\n",
    "for a in assignments:\n",
    "  print(a['name'], a['due_at'])"
   ]
  },
  {
   "cell_type": "markdown",
   "metadata": {},
   "source": [
    "We can also check the JSON structure of an assignment. We can see that the important information about the assignment that can be used to create a Trello card can be accessed here. In particular, the name, due date, and description. We can also use the course id to map it to its corresponding course. "
   ]
  },
  {
   "cell_type": "code",
   "execution_count": 39,
   "metadata": {},
   "outputs": [
    {
     "data": {
      "text/plain": [
       "{'id': 77520000000447764,\n",
       " 'description': '<p><a class=\"instructure_file_link instructure_scribd_file\" title=\"Sprint Report Template.pdf\" href=\"https://canvas.instructure.com/courses/7752~27706/files/7752~7513679?verifier=65fNcQckYKCDOPE6cbNlepfZIWwRC5LBnUoNrCWN&amp;wrap=1\" target=\"_blank\" data-api-endpoint=\"https://canvas.instructure.com/api/v1/courses/7752~27706/files/7752~7513679\" data-api-returntype=\"File\">Sprint Report Template</a></p>\\n<p><span>An important component of project success is following a disciplined life cycle approach. Your team is required to submit weekly sprint reports. These sprint reports will be used to: 1) monitor team progress; 2) communicate accomplishments and potential roadblocks; and 3) to evaluate individual contributions. Each sprint report </span><span>must </span><span>include the components outlined in the Sprint Report Template.<br></span></p>\\n<p><span>As a team, you should also develop a project plan that will guide your semester efforts. The project plan should include a detailed task list, user stories, milestones, resources (i.e., people) and metrics (duration, effort in person-hours, schedule). Your project plan should be updated at least once every week and have a direct correlation with efforts described in the sprint report. Examples of project plans are available <a title=\"Project Plan Template Examples\" href=\"https://canvas.instructure.com/courses/7752~27706/pages/project-plan-template-examples\" data-api-endpoint=\"https://canvas.instructure.com/api/v1/courses/7752~27706/pages/project-plan-template-examples\" data-api-returntype=\"Page\">HERE</a>.</span></p>',\n",
       " 'due_at': '2022-04-06T04:01:00Z',\n",
       " 'unlock_at': None,\n",
       " 'lock_at': None,\n",
       " 'points_possible': 10.0,\n",
       " 'grading_type': 'points',\n",
       " 'assignment_group_id': 77520000000113056,\n",
       " 'grading_standard_id': None,\n",
       " 'created_at': '2022-01-10T15:12:10Z',\n",
       " 'updated_at': '2022-02-11T16:31:25Z',\n",
       " 'peer_reviews': False,\n",
       " 'automatic_peer_reviews': False,\n",
       " 'position': 6,\n",
       " 'grade_group_students_individually': False,\n",
       " 'anonymous_peer_reviews': False,\n",
       " 'group_category_id': 77520000000011808,\n",
       " 'post_to_sis': False,\n",
       " 'moderated_grading': False,\n",
       " 'omit_from_final_grade': False,\n",
       " 'intra_group_peer_reviews': False,\n",
       " 'anonymous_instructor_annotations': False,\n",
       " 'anonymous_grading': False,\n",
       " 'graders_anonymous_to_graders': False,\n",
       " 'grader_count': 0,\n",
       " 'grader_comments_visible_to_graders': True,\n",
       " 'final_grader_id': None,\n",
       " 'grader_names_visible_to_final_grader': True,\n",
       " 'allowed_attempts': -1,\n",
       " 'annotatable_attachment_id': None,\n",
       " 'secure_params': 'eyJ0eXAiOiJKV1QiLCJhbGciOiJIUzI1NiJ9.eyJsdGlfYXNzaWdubWVudF9pZCI6Ijc5NDc2ZTFhLWZjNmEtNDcyNi1hYzZhLWZjZGUzODMzMmU3NSIsImx0aV9hc3NpZ25tZW50X2Rlc2NyaXB0aW9uIjoiXHUwMDNjcFx1MDAzZVx1MDAzY2EgY2xhc3M9XCJpbnN0cnVjdHVyZV9maWxlX2xpbmsgaW5zdHJ1Y3R1cmVfc2NyaWJkX2ZpbGVcIiB0aXRsZT1cIlNwcmludCBSZXBvcnQgVGVtcGxhdGUucGRmXCIgaHJlZj1cIi9jb3Vyc2VzLzI3NzA2L2ZpbGVzLzc1MTM2Nzk_d3JhcD0xXCIgdGFyZ2V0PVwiX2JsYW5rXCIgZGF0YS1hcGktZW5kcG9pbnQ9XCJodHRwczovL2NhbnZhcy5jbXUuZWR1L2FwaS92MS9jb3Vyc2VzLzI3NzA2L2ZpbGVzLzc1MTM2NzlcIiBkYXRhLWFwaS1yZXR1cm50eXBlPVwiRmlsZVwiXHUwMDNlU3ByaW50IFJlcG9ydCBUZW1wbGF0ZVx1MDAzYy9hXHUwMDNlXHUwMDNjL3BcdTAwM2Vcblx1MDAzY3BcdTAwM2VcdTAwM2NzcGFuXHUwMDNlQW4gaW1wb3J0YW50IGNvbXBvbmVudCBvZiBwcm9qZWN0IHN1Y2Nlc3MgaXMgZm9sbG93aW5nIGEgZGlzY2lwbGluZWQgbGlmZSBjeWNsZSBhcHByb2FjaC4gWW91ciB0ZWFtIGlzIHJlcXVpcmVkIHRvIHN1Ym1pdCB3ZWVrbHkgc3ByaW50IHJlcG9ydHMuIFRoZXNlIHNwcmludCByZXBvcnRzIHdpbGwgYmUgdXNlZCB0bzogMSkgbW9uaXRvciB0ZWFtIHByb2dyZXNzOyAyKSBjb21tdW5pY2F0ZSBhY2NvbXBsaXNobWVudHMgYW5kIHBvdGVudGlhbCByb2FkYmxvY2tzOyBhbmQgMykgdG8gZXZhbHVhdGUgaW5kaXZpZHVhbCBjb250cmlidXRpb25zLiBFYWNoIHNwcmludCByZXBvcnQgXHUwMDNjL3NwYW5cdTAwM2VcdTAwM2NzcGFuXHUwMDNlbXVzdCBcdTAwM2Mvc3Bhblx1MDAzZVx1MDAzY3NwYW5cdTAwM2VpbmNsdWRlIHRoZSBjb21wb25lbnRzIG91dGxpbmVkIGluIHRoZSBTcHJpbnQgUmVwb3J0IFRlbXBsYXRlLlx1MDAzY2JyXHUwMDNlXHUwMDNjL3NwYW5cdTAwM2VcdTAwM2MvcFx1MDAzZVxuXHUwMDNjcFx1MDAzZVx1MDAzY3NwYW5cdTAwM2VBcyBhIHRlYW0sIHlvdSBzaG91bGQgYWxzbyBkZXZlbG9wIGEgcHJvamVjdCBwbGFuIHRoYXQgd2lsbCBndWlkZSB5b3VyIHNlbWVzdGVyIGVmZm9ydHMuIFRoZSBwcm9qZWN0IHBsYW4gc2hvdWxkIGluY2x1ZGUgYSBkZXRhaWxlZCB0YXNrIGxpc3QsIHVzZXIgc3RvcmllcywgbWlsZXN0b25lcywgcmVzb3VyY2VzIChpLmUuLCBwZW9wbGUpIGFuZCBtZXRyaWNzIChkdXJhdGlvbiwgZWZmb3J0IGluIHBlcnNvbi1ob3VyLi4uICh0cnVuY2F0ZWQpIn0.ltWNMiFUVqrU57WK0ASJt63a1jmtw_974V5mIFq2XAY',\n",
       " 'course_id': 77520000000027706,\n",
       " 'name': 'Apr 6 Sprint Report',\n",
       " 'submission_types': ['online_upload'],\n",
       " 'has_submitted_submissions': True,\n",
       " 'due_date_required': False,\n",
       " 'max_name_length': 255,\n",
       " 'in_closed_grading_period': False,\n",
       " 'is_quiz_assignment': False,\n",
       " 'can_duplicate': True,\n",
       " 'original_course_id': None,\n",
       " 'original_assignment_id': None,\n",
       " 'original_lti_resource_link_id': None,\n",
       " 'original_assignment_name': None,\n",
       " 'original_quiz_id': None,\n",
       " 'workflow_state': 'published',\n",
       " 'important_dates': False,\n",
       " 'muted': True,\n",
       " 'html_url': 'https://canvas.instructure.com/courses/77520000000027706/assignments/7752~447764',\n",
       " 'use_rubric_for_grading': False,\n",
       " 'free_form_criterion_comments': False,\n",
       " 'rubric': [{'id': '_1293',\n",
       "   'points': 3.0,\n",
       "   'description': 'Header',\n",
       "   'long_description': 'Do you cite sources / maintain well<br/>\\norganized thoughts? Has your project<br/>\\nplan been updated? Have you done any<br/>\\noutside research?',\n",
       "   'ignore_for_scoring': None,\n",
       "   'criterion_use_range': False,\n",
       "   'ratings': [{'id': 'blank',\n",
       "     'points': 3.0,\n",
       "     'description': 'Full Marks',\n",
       "     'long_description': ''},\n",
       "    {'id': '_8503',\n",
       "     'points': 2.0,\n",
       "     'description': 'Average Performance',\n",
       "     'long_description': ''},\n",
       "    {'id': '_6148',\n",
       "     'points': 1.0,\n",
       "     'description': 'Below Standard',\n",
       "     'long_description': ''},\n",
       "    {'id': 'blank_2',\n",
       "     'points': 0.0,\n",
       "     'description': 'No Marks',\n",
       "     'long_description': ''}]},\n",
       "  {'id': '_9793',\n",
       "   'points': 5.0,\n",
       "   'description': 'Accomplishments Since Last Sprint',\n",
       "   'long_description': 'How are you maintaining the system<br/>\\ndevelopment lifecycle? Is the project<br/>\\nmoving forward? Does it include<br/>\\nappropriate details for listed<br/>\\naccomplishments? Does it address<br/>\\ntargets from previous sprint?',\n",
       "   'ignore_for_scoring': None,\n",
       "   'criterion_use_range': False,\n",
       "   'ratings': [{'id': '_9420',\n",
       "     'points': 5.0,\n",
       "     'description': 'Full Marks',\n",
       "     'long_description': ''},\n",
       "    {'id': '_5825',\n",
       "     'points': 3.5,\n",
       "     'description': 'Average Performance',\n",
       "     'long_description': ''},\n",
       "    {'id': '_7133',\n",
       "     'points': 2.0,\n",
       "     'description': 'Below Standard',\n",
       "     'long_description': ''},\n",
       "    {'id': '_9806',\n",
       "     'points': 0.0,\n",
       "     'description': 'No Marks',\n",
       "     'long_description': ''}]},\n",
       "  {'id': '_748',\n",
       "   'points': 5.0,\n",
       "   'description': 'Blocks and Problems',\n",
       "   'long_description': 'How have you dealt with change? Do<br/>\\nyou list pain points of both the client<br/>\\nand your group? Do you specify how<br/>\\nyou mitigate those problems in the<br/>\\ncoming week? Do you list potential<br/>\\nproject slippage?',\n",
       "   'ignore_for_scoring': None,\n",
       "   'criterion_use_range': False,\n",
       "   'ratings': [{'id': '_8570',\n",
       "     'points': 5.0,\n",
       "     'description': 'Full Marks',\n",
       "     'long_description': ''},\n",
       "    {'id': '_759',\n",
       "     'points': 3.5,\n",
       "     'description': 'Average Performance',\n",
       "     'long_description': ''},\n",
       "    {'id': '_8415',\n",
       "     'points': 2.0,\n",
       "     'description': 'Below Standard',\n",
       "     'long_description': ''},\n",
       "    {'id': '_2727',\n",
       "     'points': 0.0,\n",
       "     'description': 'No Marks',\n",
       "     'long_description': ''}]},\n",
       "  {'id': '_9551',\n",
       "   'points': 5.0,\n",
       "   'description': 'Goals / Targets for the Next Sprint',\n",
       "   'long_description': 'Does each task include a name, brief,<br/>\\ndescription, anticipated time, and who<br/>\\nwill work on it? Are tasks previously<br/>\\nlisted and not started given an<br/>\\nexplanation?',\n",
       "   'ignore_for_scoring': None,\n",
       "   'criterion_use_range': False,\n",
       "   'ratings': [{'id': '_8568',\n",
       "     'points': 5.0,\n",
       "     'description': 'Full Marks',\n",
       "     'long_description': ''},\n",
       "    {'id': '_1860',\n",
       "     'points': 3.5,\n",
       "     'description': 'Average Performance',\n",
       "     'long_description': ''},\n",
       "    {'id': '_5982',\n",
       "     'points': 2.0,\n",
       "     'description': 'Below Standard',\n",
       "     'long_description': ''},\n",
       "    {'id': '_4198',\n",
       "     'points': 0.0,\n",
       "     'description': 'No Marks',\n",
       "     'long_description': ''}]},\n",
       "  {'id': '_7115',\n",
       "   'points': 2.0,\n",
       "   'description': 'Community Partner Relationship',\n",
       "   'long_description': 'Are positive / negative interactions<br/>\\nwith the community partner given in<br/>\\ndetail? Does the group approach<br/>\\nproblems as opportunities rather than problems?',\n",
       "   'ignore_for_scoring': None,\n",
       "   'criterion_use_range': False,\n",
       "   'ratings': [{'id': '_6122',\n",
       "     'points': 2.0,\n",
       "     'description': 'Full Marks',\n",
       "     'long_description': ''},\n",
       "    {'id': '_7622',\n",
       "     'points': 1.0,\n",
       "     'description': 'Below Standard',\n",
       "     'long_description': ''},\n",
       "    {'id': '_2907',\n",
       "     'points': 0.0,\n",
       "     'description': 'No Marks',\n",
       "     'long_description': ''}]}],\n",
       " 'rubric_settings': {'id': 77520000000026746,\n",
       "  'title': 'Sprint Report Rubric',\n",
       "  'points_possible': 20.0,\n",
       "  'free_form_criterion_comments': False,\n",
       "  'hide_score_total': False,\n",
       "  'hide_points': False},\n",
       " 'published': True,\n",
       " 'only_visible_to_overrides': False,\n",
       " 'bucket': 'upcoming',\n",
       " 'locked_for_user': False,\n",
       " 'submissions_download_url': 'https://canvas.instructure.com/courses/7752~27706/assignments/7752~447764/submissions?zip=1',\n",
       " 'post_manually': True,\n",
       " 'anonymize_students': False,\n",
       " 'require_lockdown_browser': False}"
      ]
     },
     "execution_count": 39,
     "metadata": {},
     "output_type": "execute_result"
    }
   ],
   "source": [
    "assignments[0] if len(assignments) > 0 else None"
   ]
  },
  {
   "cell_type": "markdown",
   "metadata": {},
   "source": [
    "## Importing Assignments into Trello\n",
    "Now that we have a list of active courses and a list of upcoming assignments, we can import the data into Trello! But first, lets set up a new Trello board. We can tell Trello to create a new board by sending a POST request to the appropriate [endpoint](https://developer.atlassian.com/cloud/trello/rest/api-group-boards/#api-boards-post). Trello accepts the API key and user token in the query parameter itself so we can send it along in the payload. We will also specify a name for our new board which we can call 'College'."
   ]
  },
  {
   "cell_type": "code",
   "execution_count": 40,
   "metadata": {},
   "outputs": [
    {
     "name": "stdout",
     "output_type": "stream",
     "text": [
      "624c7ed22d2d732cd0665c37\n"
     ]
    }
   ],
   "source": [
    "# create a new board named 'College' and get its id\n",
    "payload = {\n",
    "  'key': TRELLO_API_KEY,\n",
    "  'token': TRELLO_TOKEN,\n",
    "  'name': 'College'\n",
    "}\n",
    "\n",
    "r = requests.post('https://api.trello.com/1/boards', params=payload)\n",
    "r.raise_for_status()\n",
    "res = r.json()\n",
    "board_id = res['id']\n",
    "\n",
    "print(board_id)"
   ]
  },
  {
   "cell_type": "markdown",
   "metadata": {},
   "source": [
    "We can also save the url of the new Trello Board to check if the lists, labels, and cards are created properly."
   ]
  },
  {
   "cell_type": "code",
   "execution_count": 41,
   "metadata": {},
   "outputs": [
    {
     "name": "stdout",
     "output_type": "stream",
     "text": [
      "https://trello.com/b/12HzIkLp/college\n"
     ]
    }
   ],
   "source": [
    "# url to the Trello board\n",
    "board_url = res['url']\n",
    "\n",
    "print(board_url)"
   ]
  },
  {
   "cell_type": "markdown",
   "metadata": {},
   "source": [
    "A Trello board is a workspace to oragnize and manage different tasks. Tasks are captured in cards and these cards are organized into different lists within the board such as To do, Doing, and Done (default lists). We can add and delete lists as we please but for this tutorial, we will stick with the default ones. We can get the default lists and their corresponding id for the board we just created by sending a GET request to this [endpoint](https://developer.atlassian.com/cloud/trello/rest/api-group-boards/#api-boards-id-lists-get). \n",
    "1. Similar Canvas assignments endpoint, the lists endpoint url needs the board id which we will include using string concatenation."
   ]
  },
  {
   "cell_type": "code",
   "execution_count": 42,
   "metadata": {},
   "outputs": [
    {
     "data": {
      "text/plain": [
       "{'To Do': '624c7ed22d2d732cd0665c38',\n",
       " 'Doing': '624c7ed22d2d732cd0665c39',\n",
       " 'Done': '624c7ed22d2d732cd0665c3a'}"
      ]
     },
     "execution_count": 42,
     "metadata": {},
     "output_type": "execute_result"
    }
   ],
   "source": [
    "# get the list ids for the default lists in the new board\n",
    "list_ids = {}\n",
    "\n",
    "payload = {\n",
    "  'key': TRELLO_API_KEY,\n",
    "  'token': TRELLO_TOKEN,\n",
    "}\n",
    "r = requests.get(\"https://api.trello.com/1/boards/\" + str(board_id) + \"/lists\", params=payload)\n",
    "r.raise_for_status()\n",
    "res = r.json() # a list of Trello List json objects\n",
    "\n",
    "for l in res:\n",
    "  list_ids[l['name']] = l['id']\n",
    "  \n",
    "list_ids"
   ]
  },
  {
   "cell_type": "markdown",
   "metadata": {},
   "source": [
    "The next step is to set up some basic labels for our Trello Board. Labels are a way to tag and organize your tasks (cards) in Trello. In this case, we can create a label for each course in order to tag our assignments to show which course they belong to. We do this by sending a POST request to this [endpoint](https://developer.atlassian.com/cloud/trello/rest/api-group-labels/#api-labels-post). \n",
    "1. Note that Trello has a limited selection of label colors which are ```['yellow', 'purple', 'blue', 'red', 'green', 'orange', 'black', 'sky', 'pink', 'lime']```. We can just randomly choose a color for each of our labels."
   ]
  },
  {
   "cell_type": "code",
   "execution_count": 43,
   "metadata": {},
   "outputs": [
    {
     "data": {
      "text/plain": [
       "{'Computer Science Assessment Test 2019': '624c7edada17b10be4512958',\n",
       " 'Design Educational Games': '624c7eda305fcf46edd928c8',\n",
       " 'Dietrich College Class of 2023 Advising Guide': '624c7edab77db6021c499401',\n",
       " 'Practical Data Science': '624c7edadab359821ce26c66',\n",
       " 'S22-Information Systems Consulting Project': '624c7edbe39c9d8a9a10e16f',\n",
       " 'Special Topics in HCI: Accessibility': '624c7edb475f8f5249170d1f'}"
      ]
     },
     "execution_count": 43,
     "metadata": {},
     "output_type": "execute_result"
    }
   ],
   "source": [
    "# create labels for each class\n",
    "# valid label colors are yellow, purple, blue, red, green, orange, black, sky, pink, lime\n",
    "\n",
    "# create a mapping of courses to their label ids\n",
    "course_label_ids = {}\n",
    "\n",
    "for c in courses:\n",
    "  payload = {\n",
    "    'key': TRELLO_API_KEY,\n",
    "    'token': TRELLO_TOKEN,\n",
    "    'idBoard': board_id,\n",
    "    'name': c['name'],\n",
    "    'color': random.choice(['yellow', 'purple', 'blue', 'red', 'green', 'orange', 'black', 'sky', 'pink', 'lime'])\n",
    "  }\n",
    "  \n",
    "  r = requests.post(\"https://api.trello.com/1/labels\", params=payload)\n",
    "  r.raise_for_status()\n",
    "  res = r.json()\n",
    "  course_label_ids[res['name']] = res['id']\n",
    "  \n",
    "course_label_ids"
   ]
  },
  {
   "cell_type": "markdown",
   "metadata": {},
   "source": [
    "Now that we have our board set up with some lists and labels, we can start importing assignments as cards into the Trello board. We can use the the [create a new card](https://developer.atlassian.com/cloud/trello/rest/api-group-cards/#api-cards-post) endpoint with a post request to add a new card to our board. Along with our API key and token, we have to send the id of the list we want to add the card to and any relevant assignment information like name and due date. There are a couple things to note while constructing the payload for the POST request.\n",
    "1. The assignment description from the assignment JSON structure is in HTML. In order to parse it as plain text, we will use the ```html2text``` library to pre-process it before passing it to Trello.\n",
    "2. We will place all cards in the **To Do** list.\n",
    "3. Trello references lists and labels through their ids. In the previous sections, we created dictionaries like ```course_label_ids``` and ```list_ids``` to keep track of those ids. We will use them here to populate the 'idList' and 'idLabels' fields. ```id_to_course``` is a dictionary that we created in the Canvas section that maps the canvas course id to the course name. We can use ```id_to_course``` in conjunction with ```course_label_ids``` to get a mapping from Canvas course id to the corresponding Trello label id.\n",
    "4. Trello cards can have various types of attachments. We will take advantage of this feature by attaching a link to the original Canvas assignment with the 'urlSource' field.\n",
    "\n",
    "We can check if the cards were created properly by going to the url stored at ```board_url```."
   ]
  },
  {
   "cell_type": "code",
   "execution_count": 44,
   "metadata": {},
   "outputs": [
    {
     "name": "stdout",
     "output_type": "stream",
     "text": [
      "https://trello.com/b/12HzIkLp/college\n"
     ]
    }
   ],
   "source": [
    "# create a card for each assignment\n",
    "for assignment in assignments:\n",
    "  payload = {\n",
    "    'key': TRELLO_API_KEY,\n",
    "    'token': TRELLO_TOKEN,\n",
    "    'name': assignment['name'],\n",
    "    'desc': html2text.html2text(assignment['description']),\n",
    "    'due': assignment['due_at'],\n",
    "    'idList': list_ids['To Do'],\n",
    "    'idLabels': [course_label_ids[id_to_course[assignment['course_id']]]],\n",
    "    'urlSource': assignment['html_url']\n",
    "  }\n",
    "\n",
    "  r = requests.post(\"https://api.trello.com/1/cards\", params=payload)\n",
    "  r.raise_for_status()\n",
    "\n",
    "# url to board, won't work for unauthorized users\n",
    "print(board_url)"
   ]
  },
  {
   "cell_type": "markdown",
   "metadata": {},
   "source": [
    "**Example Trello Card (Cropped)** \n",
    "\n",
    "![A card generated in the Trello Board.](card.png \"A Trello Card\")"
   ]
  },
  {
   "cell_type": "markdown",
   "metadata": {},
   "source": [
    "**Example Resulting Trello Board** \n",
    "\n",
    "We can see that the assignments were populated as cards on the board with the appropriate course labels.\n",
    "\n",
    "![The resulting cards generated in the Trello Board.](trello_cards.png \"Cards in Trello Board\")"
   ]
  },
  {
   "cell_type": "markdown",
   "metadata": {},
   "source": [
    "We can also check that the Trello board was populated by the cards by sending a GET request to the cards [endpoint](https://developer.atlassian.com/cloud/trello/rest/api-group-boards/#api-boards-id-cards-get)."
   ]
  },
  {
   "cell_type": "code",
   "execution_count": 45,
   "metadata": {},
   "outputs": [
    {
     "name": "stdout",
     "output_type": "stream",
     "text": [
      "Apr 6 Sprint Report\n",
      "Due: 2022-04-06T04:01:00.000Z\n",
      "----\n",
      "Homework 5: DIY-AT - ADD A HANDLE\n",
      "Due: 2022-04-07T03:59:59.000Z\n",
      "----\n"
     ]
    }
   ],
   "source": [
    "payload = {\n",
    "  'key': TRELLO_API_KEY,\n",
    "  'token': TRELLO_TOKEN\n",
    "}\n",
    "\n",
    "# get all open cards from the Trello board\n",
    "r = requests.get(\"https://api.trello.com/1/boards/\" + str(board_id) + \"/cards\", params=payload)\n",
    "r.raise_for_status()\n",
    "cards = r.json()\n",
    "\n",
    "# print out name and due date for each card\n",
    "for card in cards:\n",
    "  print(card['name'])\n",
    "  print(\"Due: %s\" % card['due'])\n",
    "  print(\"----\")"
   ]
  },
  {
   "cell_type": "markdown",
   "metadata": {},
   "source": [
    "## Example: Visualizing Assignment Workload\n",
    "This example will use the pandas library to create a visualization of our assignment workload by month. We will represent our workload by the amount of points that each assignment is worth (assuming that 1 point is weighed roughly equally across courses). This example will involve the Canvas API and some basic pandas operations."
   ]
  },
  {
   "cell_type": "code",
   "execution_count": 46,
   "metadata": {},
   "outputs": [],
   "source": [
    "assignments = []\n",
    "tmp = []\n",
    "\n",
    "for c in courses:\n",
    "  payload={\n",
    "    'per_page': 20\n",
    "  }\n",
    "  r = requests.get(CANVAS_BASE_URL+ \"/api/v1/courses/\" + str(c['id']) + \"/assignments\", params=payload, headers=headers)\n",
    "  r.raise_for_status()\n",
    "  tmp.extend(r.json())\n",
    "\n",
    "for a in tmp:\n",
    "  assignments.append((a['name'], a['due_at'], a['points_possible']))"
   ]
  },
  {
   "cell_type": "code",
   "execution_count": 47,
   "metadata": {},
   "outputs": [
    {
     "data": {
      "text/plain": [
       "<AxesSubplot:title={'center':'Workload by Month'}, xlabel='Month', ylabel='Workload (points)'>"
      ]
     },
     "execution_count": 47,
     "metadata": {},
     "output_type": "execute_result"
    },
    {
     "data": {
      "image/png": "[encoded data removed]",
      "text/plain": [
       "<Figure size 432x288 with 1 Axes>"
      ]
     },
     "metadata": {
      "needs_background": "light"
     },
     "output_type": "display_data"
    }
   ],
   "source": [
    "assignments_df = pd.DataFrame(assignments, columns=['name', 'due_date', 'points'])\n",
    "assignments_df['due_date'] = pd.to_datetime(assignments_df['due_date'])\n",
    "assignments_df = assignments_df.dropna()\n",
    "assignments_df = assignments_df.set_index('due_date')\n",
    "data = assignments_df.groupby(pd.Grouper(freq='M')).sum()\n",
    "data.reset_index(inplace=True)\n",
    "data['due_date'] = data['due_date'].apply(lambda x: x.strftime(\"%m/%Y\"))\n",
    "data.plot.bar(x='due_date', y='points', title='Workload by Month', xlabel='Month', ylabel='Workload (points)')"
   ]
  },
  {
   "cell_type": "markdown",
   "metadata": {},
   "source": [
    "## Summary and References\n",
    "This tutorial introduced the basic of REST APIs and how we can use APIs to gather data or transfer data across applications with Python. The following links are the documentations for the resources used. \n",
    "\n",
    "1. Requests: https://docs.python-requests.org/en/latest/\n",
    "2. Random: https://docs.python.org/3/library/random.html\n",
    "3. html2text: https://github.com/Alir3z4/html2text/blob/master/docs/usage.md\n",
    "4. Canvas LMS API: https://canvas.instructure.com/doc/api/index.html\n",
    "5. Trello API: https://developer.atlassian.com/cloud/trello/rest/api-group-actions/"
   ]
  }
 ],
 "metadata": {
  "kernelspec": {
   "display_name": "Python 3 (ipykernel)",
   "language": "python",
   "name": "python3"
  },
  "language_info": {
   "codemirror_mode": {
    "name": "ipython",
    "version": 3
   },
   "file_extension": ".py",
   "mimetype": "text/x-python",
   "name": "python",
   "nbconvert_exporter": "python",
   "pygments_lexer": "ipython3",
   "version": "3.10.0"
  }
 },
 "nbformat": 4,
 "nbformat_minor": 4
}
